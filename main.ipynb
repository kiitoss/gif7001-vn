{
 "cells": [
  {
   "cell_type": "markdown",
   "id": "6e352419",
   "metadata": {},
   "source": [
    "# Reconnaissance de caractères et de symboles"
   ]
  },
  {
   "cell_type": "code",
   "execution_count": 23,
   "id": "e34ee312",
   "metadata": {},
   "outputs": [],
   "source": [
    "import numpy as np\n",
    "import cv2\n",
    "import os\n",
    "from pyzbar import pyzbar"
   ]
  },
  {
   "cell_type": "markdown",
   "id": "5a309be8",
   "metadata": {},
   "source": [
    "## Fonctions de détection dans une image"
   ]
  },
  {
   "cell_type": "code",
   "execution_count": 24,
   "id": "9e2fda29",
   "metadata": {},
   "outputs": [],
   "source": [
    "def decode_image(img):\n",
    "    codes = pyzbar.decode(img)\n",
    "    return codes"
   ]
  },
  {
   "cell_type": "code",
   "execution_count": 25,
   "id": "58e930d4",
   "metadata": {},
   "outputs": [],
   "source": [
    "def update_image(img, code):\n",
    "    (x, y, w, h) = code.rect\n",
    "    cv2.rectangle(img, (x, y), (x + w, y + h), (0, 0, 255), 2)\n",
    "\n",
    "    codeData = code.data.decode(\"utf-8\")\n",
    "    codeType = code.type\n",
    "\n",
    "    text = \"{} ({})\".format(codeData, codeType)\n",
    "    cv2.putText(img, text, (x, y - 10), cv2.FONT_HERSHEY_SIMPLEX, 0.5, (0, 0, 255), 2)\n",
    "\n",
    "    return img"
   ]
  },
  {
   "cell_type": "code",
   "execution_count": 42,
   "id": "ad8f0d7d",
   "metadata": {},
   "outputs": [],
   "source": [
    "def decode_and_update_image(original):\n",
    "    updated = original.copy()\n",
    "    img = cv2.cvtColor(original, cv2.COLOR_BGR2GRAY)\n",
    "\n",
    "    codes = decode_image(img)\n",
    "    for code in codes:\n",
    "        updated = update_image(updated, code)\n",
    "\n",
    "    return codes, original, updated"
   ]
  },
  {
   "cell_type": "code",
   "execution_count": 43,
   "id": "bdf170ea",
   "metadata": {},
   "outputs": [],
   "source": [
    "def decode_and_update_image_from_path(img_path):\n",
    "    original = cv2.imread(img_path)\n",
    "\n",
    "    return decode_and_update_image(original)"
   ]
  },
  {
   "cell_type": "markdown",
   "id": "20549e73",
   "metadata": {},
   "source": [
    "## Tests des fonctions"
   ]
  },
  {
   "cell_type": "code",
   "execution_count": 44,
   "id": "6ec86b0b",
   "metadata": {},
   "outputs": [],
   "source": [
    "EMPTY_IMAGES_PATH = \"./data/images/empty\"\n",
    "BARCODE_IMAGES_PATH = \"./data/images/barcode\"\n",
    "QR_IMAGES_PATH = \"./data/images/qrcode\"\n",
    "\n",
    "OUTPUT_PATH = \"./data/outputs/\""
   ]
  },
  {
   "cell_type": "code",
   "execution_count": 45,
   "id": "c9991ddc",
   "metadata": {},
   "outputs": [],
   "source": [
    "def test_code_detection():\n",
    "    # boucle sur les dossiers d'images\n",
    "    for path in [EMPTY_IMAGES_PATH, BARCODE_IMAGES_PATH, QR_IMAGES_PATH]:\n",
    "        # boucle sur les images du dossier\n",
    "        for img_path in os.listdir(path):\n",
    "            full_path = path + \"/\" + img_path\n",
    "            print(full_path)\n",
    "\n",
    "            codes, original, updated = decode_and_update_image_from_path(full_path)\n",
    "\n",
    "            # print les codes trouvés\n",
    "            for code in codes:\n",
    "                codeData = code.data.decode(\"utf-8\")\n",
    "                codeType = code.type\n",
    "                print(\"[INFO] Trouvé : {} code : {}\".format(codeType, codeData))\n",
    "\n",
    "            cv2.imwrite(OUTPUT_PATH + \"/\" + img_path, updated)\n",
    "\n",
    "            print(\"\\n\")"
   ]
  },
  {
   "cell_type": "code",
   "execution_count": 46,
   "id": "cb0e2acc",
   "metadata": {},
   "outputs": [
    {
     "name": "stdout",
     "output_type": "stream",
     "text": [
      "./data/images/empty/img_001.jpg\n",
      "\n",
      "\n",
      "./data/images/barcode/img_001.png\n",
      "[INFO] Trouvé : EAN13 code : 0073935942400\n",
      "\n",
      "\n",
      "./data/images/qrcode/Nestle-and-Google-launch-KitKat-QR-code.jpg\n",
      "[INFO] Trouvé : QRCODE code : https://goo.gl/9aYrMF\n",
      "\n",
      "\n"
     ]
    }
   ],
   "source": [
    "test_code_detection()"
   ]
  },
  {
   "cell_type": "markdown",
   "id": "8f3b2052",
   "metadata": {},
   "source": [
    "## Fonctions de détection dans une vidéo"
   ]
  },
  {
   "cell_type": "code",
   "execution_count": 59,
   "id": "88ea47b7",
   "metadata": {},
   "outputs": [
    {
     "name": "stderr",
     "output_type": "stream",
     "text": [
      "OpenCV: FFMPEG: tag 0x34504d46/'FMP4' is not supported with codec id 12 and format 'mp4 / MP4 (MPEG-4 Part 14)'\n",
      "OpenCV: FFMPEG: fallback to use tag 0x7634706d/'mp4v'\n"
     ]
    },
    {
     "name": "stdout",
     "output_type": "stream",
     "text": [
      "Erreur dans la lecture de la frame\n"
     ]
    }
   ],
   "source": [
    "video_path = \"./data/videos/v1.mp4\"\n",
    "output_path = \"./data/outputs/output.mp4\"\n",
    "\n",
    "cap = cv2.VideoCapture(video_path)\n",
    "width = int(cap.get(3))\n",
    "height = int(cap.get(4))\n",
    "fourcc = cv2.VideoWriter_fourcc(*\"mp4v\")\n",
    "out = cv2.VideoWriter(output_path, fourcc, 20.0, (width, height), True)\n",
    "\n",
    "while cap.isOpened():\n",
    "    ret, frame = cap.read()\n",
    "\n",
    "    if not ret:\n",
    "        print(\"Erreur dans la lecture de la frame\")\n",
    "        break\n",
    "\n",
    "    codes, original, updated = decode_and_update_image(frame)\n",
    "\n",
    "    out.write(updated)\n",
    "\n",
    "cap.release()\n",
    "out.release()"
   ]
  },
  {
   "cell_type": "code",
   "execution_count": null,
   "id": "3288e9a3",
   "metadata": {},
   "outputs": [],
   "source": []
  }
 ],
 "metadata": {
  "kernelspec": {
   "display_name": "Python 3 (ipykernel)",
   "language": "python",
   "name": "python3"
  },
  "language_info": {
   "codemirror_mode": {
    "name": "ipython",
    "version": 3
   },
   "file_extension": ".py",
   "mimetype": "text/x-python",
   "name": "python",
   "nbconvert_exporter": "python",
   "pygments_lexer": "ipython3",
   "version": "3.10.12"
  }
 },
 "nbformat": 4,
 "nbformat_minor": 5
}
