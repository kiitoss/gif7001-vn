{
 "cells": [
  {
   "cell_type": "markdown",
   "id": "6e352419",
   "metadata": {},
   "source": [
    "# Reconnaissance de caractères et de symboles"
   ]
  },
  {
   "cell_type": "code",
   "execution_count": 131,
   "id": "e34ee312",
   "metadata": {},
   "outputs": [],
   "source": [
    "import numpy as np\n",
    "import cv2\n",
    "import os\n",
    "from pyzbar import pyzbar"
   ]
  },
  {
   "cell_type": "markdown",
   "id": "2f8d1fa6",
   "metadata": {},
   "source": [
    "## Fonctions de détection dans une image"
   ]
  },
  {
   "cell_type": "code",
   "execution_count": 174,
   "id": "cba8b615",
   "metadata": {},
   "outputs": [],
   "source": [
    "def decode_image(img):\n",
    "    codes = pyzbar.decode(img)\n",
    "    return codes"
   ]
  },
  {
   "cell_type": "code",
   "execution_count": null,
   "id": "0c02c364",
   "metadata": {},
   "outputs": [],
   "source": [
    "def update_image(img):\n",
    "    (x, y, w, h) = code.rect\n",
    "                cv2.rectangle(img, (x, y), (x + w, y + h), (0, 0, 255), 2)\n",
    "                \n",
    "                \n",
    "                codeData = code.data.decode(\"utf-8\")\n",
    "                codeType = code.type\n",
    "\n",
    "                text = \"{} ({})\".format(codeData, codeType)\n",
    "                cv2.putText(img, text, (x, y - 10), cv2.FONT_HERSHEY_SIMPLEX, 0.5, (0, 0, 255), 2)\n",
    "\n",
    "                print(\"[INFO] Trouvé : {} code : {}\".format(codeType, codeData))"
   ]
  },
  {
   "cell_type": "markdown",
   "id": "0293833c",
   "metadata": {},
   "source": [
    "## Tests des fonctions"
   ]
  },
  {
   "cell_type": "code",
   "execution_count": 175,
   "id": "a6c34d3b",
   "metadata": {},
   "outputs": [],
   "source": [
    "EMPTY_IMAGES_PATH = './data/images/empty'\n",
    "BARCODE_IMAGES_PATH = './data/images/barcode'\n",
    "QR_IMAGES_PATH = './data/images/qrcode'\n",
    "\n",
    "OUTPUT_PATH = './data/outputs/'"
   ]
  },
  {
   "cell_type": "code",
   "execution_count": 180,
   "id": "87cec6d2",
   "metadata": {},
   "outputs": [],
   "source": [
    "def test_code_detection():\n",
    "    # boucle sur les dossiers d'images\n",
    "    for path in [EMPTY_IMAGES_PATH, BARCODE_IMAGES_PATH, QR_IMAGES_PATH]:\n",
    "        # boucle sur les images du dossier\n",
    "        for img_path in os.listdir(path):\n",
    "            full_path = path +'/' + img_path\n",
    "            print(full_path)\n",
    "            \n",
    "            img = cv2.imread(full_path)\n",
    "        \n",
    "            codes = decode_image(img)\n",
    "            \n",
    "            \n",
    "            \n",
    "            # boucle sur les codes trouvés\n",
    "            for code in codes:\n",
    "                (x, y, w, h) = code.rect\n",
    "                cv2.rectangle(img, (x, y), (x + w, y + h), (0, 0, 255), 2)\n",
    "                \n",
    "                \n",
    "                codeData = code.data.decode(\"utf-8\")\n",
    "                codeType = code.type\n",
    "\n",
    "                text = \"{} ({})\".format(codeData, codeType)\n",
    "                cv2.putText(img, text, (x, y - 10), cv2.FONT_HERSHEY_SIMPLEX, 0.5, (0, 0, 255), 2)\n",
    "\n",
    "                print(\"[INFO] Trouvé : {} code : {}\".format(codeType, codeData))\n",
    "\n",
    "\n",
    "            cv2.imwrite(OUTPUT_PATH + '/' + img_path, img) \n",
    "            \n",
    "            print(\"\\n\")"
   ]
  },
  {
   "cell_type": "code",
   "execution_count": 181,
   "id": "45188db2",
   "metadata": {},
   "outputs": [
    {
     "name": "stdout",
     "output_type": "stream",
     "text": [
      "./data/images/empty/img_001.jpg\n",
      "\n",
      "\n",
      "./data/images/barcode/img_001.png\n",
      "[INFO] Trouvé : EAN13 code : 0073935942400\n",
      "\n",
      "\n",
      "./data/images/qrcode/Nestle-and-Google-launch-KitKat-QR-code.jpg\n",
      "\n",
      "\n"
     ]
    }
   ],
   "source": [
    "test_code_detection()"
   ]
  },
  {
   "cell_type": "markdown",
   "id": "72e1d99f",
   "metadata": {},
   "source": [
    "## Fonctions de détection dans une vidéo"
   ]
  },
  {
   "cell_type": "code",
   "execution_count": null,
   "id": "edacf58a",
   "metadata": {},
   "outputs": [],
   "source": []
  }
 ],
 "metadata": {
  "kernelspec": {
   "display_name": "Python 3 (ipykernel)",
   "language": "python",
   "name": "python3"
  },
  "language_info": {
   "codemirror_mode": {
    "name": "ipython",
    "version": 3
   },
   "file_extension": ".py",
   "mimetype": "text/x-python",
   "name": "python",
   "nbconvert_exporter": "python",
   "pygments_lexer": "ipython3",
   "version": "3.10.12"
  }
 },
 "nbformat": 4,
 "nbformat_minor": 5
}
