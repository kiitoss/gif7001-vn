{
 "cells": [
  {
   "cell_type": "markdown",
   "id": "6e352419",
   "metadata": {},
   "source": [
    "# Reconnaissance de caractères et de symboles"
   ]
  },
  {
   "cell_type": "code",
   "execution_count": 38,
   "id": "e34ee312",
   "metadata": {},
   "outputs": [],
   "source": [
    "import numpy as np\n",
    "import cv2\n",
    "import os"
   ]
  },
  {
   "cell_type": "code",
   "execution_count": 39,
   "id": "9acf0057",
   "metadata": {},
   "outputs": [],
   "source": [
    "# détécteur de codes barres\n",
    "bd = cv2.barcode_BarcodeDetector()\n",
    "\n",
    "# détécteur de QR codes\n",
    "qd = cv2.QRCodeDetector()"
   ]
  },
  {
   "cell_type": "code",
   "execution_count": 40,
   "id": "c6eb83e5",
   "metadata": {},
   "outputs": [],
   "source": [
    "def detect_barcode(img_path):\n",
    "    img = cv2.imread(img_path)\n",
    "    return bd.detectAndDecode(img)"
   ]
  },
  {
   "cell_type": "code",
   "execution_count": 41,
   "id": "2a2e0cdc",
   "metadata": {},
   "outputs": [],
   "source": [
    "def detect_qrcode(img_path):\n",
    "    img = cv2.imread(img_path)\n",
    "    return qd.detectAndDecodeMulti(img)"
   ]
  },
  {
   "cell_type": "code",
   "execution_count": 42,
   "id": "95f396b1",
   "metadata": {},
   "outputs": [],
   "source": [
    "def test_barcode_detection():\n",
    "    EMPTY_IMAGES_PATH = './data/images/empty'\n",
    "    BARCODE_IMAGES_PATH = './data/images/barcode'\n",
    "\n",
    "    # boucle sur les dossiers d'images\n",
    "    for path in [EMPTY_IMAGES_PATH, BARCODE_IMAGES_PATH]:\n",
    "        # boucle sur les images du dossier\n",
    "        for img_path in os.listdir(path):\n",
    "            print(path +'/' + img_path)\n",
    "            print(detect_barcode(path +'/' + img_path))\n",
    "\n",
    "        print('\\n')"
   ]
  },
  {
   "cell_type": "code",
   "execution_count": 43,
   "id": "6276fe6e",
   "metadata": {},
   "outputs": [],
   "source": [
    "def test_qrcode_detection():\n",
    "    EMPTY_IMAGES_PATH = './data/images/empty'\n",
    "    BARCODE_IMAGES_PATH = './data/images/qrcode'\n",
    "\n",
    "    # boucle sur les dossiers d'images\n",
    "    for path in [EMPTY_IMAGES_PATH, BARCODE_IMAGES_PATH]:\n",
    "        # boucle sur les images du dossier\n",
    "        for img_path in os.listdir(path):\n",
    "            print(path +'/' + img_path)\n",
    "            print(detect_qrcode(path +'/' + img_path))\n",
    "\n",
    "        print('\\n')"
   ]
  },
  {
   "cell_type": "code",
   "execution_count": 44,
   "id": "a73fcb9b",
   "metadata": {},
   "outputs": [
    {
     "name": "stdout",
     "output_type": "stream",
     "text": [
      "./data/images/empty/img_001.jpg\n",
      "('', None, None)\n",
      "\n",
      "\n",
      "./data/images/barcode/img_001.png\n",
      "('073935942400', None, None)\n",
      "\n",
      "\n"
     ]
    }
   ],
   "source": [
    "test_barcode_detection()"
   ]
  },
  {
   "cell_type": "code",
   "execution_count": 45,
   "id": "c57af11c",
   "metadata": {},
   "outputs": [
    {
     "name": "stdout",
     "output_type": "stream",
     "text": [
      "./data/images/empty/img_001.jpg\n",
      "(False, (), None, ())\n",
      "\n",
      "\n",
      "./data/images/qrcode/SEM_Blog_body_image-445x510-IMG_0976-QRscan.png\n",
      "(False, (), None, ())\n",
      "\n",
      "\n"
     ]
    }
   ],
   "source": [
    "test_qrcode_detection()"
   ]
  },
  {
   "cell_type": "code",
   "execution_count": null,
   "id": "7f559268",
   "metadata": {},
   "outputs": [],
   "source": []
  },
  {
   "cell_type": "code",
   "execution_count": null,
   "id": "63d14191",
   "metadata": {},
   "outputs": [],
   "source": []
  }
 ],
 "metadata": {
  "kernelspec": {
   "display_name": "Python 3 (ipykernel)",
   "language": "python",
   "name": "python3"
  },
  "language_info": {
   "codemirror_mode": {
    "name": "ipython",
    "version": 3
   },
   "file_extension": ".py",
   "mimetype": "text/x-python",
   "name": "python",
   "nbconvert_exporter": "python",
   "pygments_lexer": "ipython3",
   "version": "3.10.12"
  }
 },
 "nbformat": 4,
 "nbformat_minor": 5
}
