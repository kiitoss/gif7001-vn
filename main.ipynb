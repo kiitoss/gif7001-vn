{
 "cells": [
  {
   "cell_type": "markdown",
   "metadata": {},
   "source": [
    "# Reconnaissance de caractères et de symboles\n",
    "\n",
    "Le projet consiste à faire l’acquisition d’images d’emballages de produits alimentaires (e.g. sacs de collations, petits déjeuner, boîte de spaghetti, sac de salade, boîte de conserve) et d’identifier les éléments suivants sur ces emballages:\n",
    "\n",
    "- zones de texte (par exemple : la liste des ingrédients)\n",
    "- zones de marquage spécifique (code barres, code QR)\n",
    "- zones d’éléments graphiques (Logo, personnages (par exemple, l’ourson sur le pot de beurre d’arachides, etc.)"
   ]
  }
 ],
 "metadata": {
  "language_info": {
   "name": "python"
  }
 },
 "nbformat": 4,
 "nbformat_minor": 2
}
