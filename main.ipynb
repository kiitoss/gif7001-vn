{
 "cells": [
  {
   "cell_type": "markdown",
   "id": "6e352419",
   "metadata": {},
   "source": [
    "# Reconnaissance de caractères et de symboles"
   ]
  },
  {
   "cell_type": "code",
   "execution_count": 9,
   "id": "e34ee312",
   "metadata": {},
   "outputs": [],
   "source": [
    "import numpy as np\n",
    "import cv2\n",
    "import os\n",
    "from pyzbar import pyzbar\n",
    "from IPython.display import display, Image\n",
    "import ipywidgets as widgets\n",
    "import threading"
   ]
  },
  {
   "cell_type": "markdown",
   "id": "5a309be8",
   "metadata": {},
   "source": [
    "## Fonctions de détection dans une image"
   ]
  },
  {
   "cell_type": "code",
   "execution_count": 12,
   "id": "9e2fda29",
   "metadata": {},
   "outputs": [],
   "source": [
    "def decode_image(img):\n",
    "    codes = pyzbar.decode(img)\n",
    "    return codes"
   ]
  },
  {
   "cell_type": "code",
   "execution_count": 13,
   "id": "58e930d4",
   "metadata": {},
   "outputs": [],
   "source": [
    "def update_image(img, code):\n",
    "    (x, y, w, h) = code.rect\n",
    "    cv2.rectangle(img, (x, y), (x + w, y + h), (0, 0, 255), 2)\n",
    "\n",
    "    codeData = code.data.decode(\"utf-8\")\n",
    "    codeType = code.type\n",
    "\n",
    "    text = \"{} ({})\".format(codeData, codeType)\n",
    "    cv2.putText(img, text, (x, y - 10), cv2.FONT_HERSHEY_SIMPLEX, 0.5, (0, 0, 255), 2)\n",
    "\n",
    "    return img"
   ]
  },
  {
   "cell_type": "code",
   "execution_count": 17,
   "id": "ad8f0d7d",
   "metadata": {},
   "outputs": [],
   "source": [
    "def decode_and_update_image(original):\n",
    "    if original is None:\n",
    "        return [], original, original\n",
    "    \n",
    "    updated = original.copy()\n",
    "    img = cv2.cvtColor(original, cv2.COLOR_BGR2GRAY)\n",
    "\n",
    "    codes = decode_image(img)\n",
    "    for code in codes:\n",
    "        updated = update_image(updated, code)\n",
    "\n",
    "    return codes, original, updated"
   ]
  },
  {
   "cell_type": "code",
   "execution_count": 15,
   "id": "bdf170ea",
   "metadata": {},
   "outputs": [],
   "source": [
    "def decode_and_update_image_from_path(img_path):\n",
    "    original = cv2.imread(img_path)\n",
    "\n",
    "    return decode_and_update_image(original)"
   ]
  },
  {
   "cell_type": "markdown",
   "id": "20549e73",
   "metadata": {},
   "source": [
    "## Tests des fonctions"
   ]
  },
  {
   "cell_type": "code",
   "execution_count": 44,
   "id": "6ec86b0b",
   "metadata": {},
   "outputs": [],
   "source": [
    "EMPTY_IMAGES_PATH = \"./data/images/empty\"\n",
    "BARCODE_IMAGES_PATH = \"./data/images/barcode\"\n",
    "QR_IMAGES_PATH = \"./data/images/qrcode\"\n",
    "\n",
    "OUTPUT_PATH = \"./data/outputs/\""
   ]
  },
  {
   "cell_type": "code",
   "execution_count": 45,
   "id": "c9991ddc",
   "metadata": {},
   "outputs": [],
   "source": [
    "def test_code_detection():\n",
    "    # boucle sur les dossiers d'images\n",
    "    for path in [EMPTY_IMAGES_PATH, BARCODE_IMAGES_PATH, QR_IMAGES_PATH]:\n",
    "        # boucle sur les images du dossier\n",
    "        for img_path in os.listdir(path):\n",
    "            full_path = path + \"/\" + img_path\n",
    "            print(full_path)\n",
    "\n",
    "            codes, original, updated = decode_and_update_image_from_path(full_path)\n",
    "\n",
    "            # print les codes trouvés\n",
    "            for code in codes:\n",
    "                codeData = code.data.decode(\"utf-8\")\n",
    "                codeType = code.type\n",
    "                print(\"[INFO] Trouvé : {} code : {}\".format(codeType, codeData))\n",
    "\n",
    "            cv2.imwrite(OUTPUT_PATH + \"/\" + img_path, updated)\n",
    "\n",
    "            print(\"\\n\")"
   ]
  },
  {
   "cell_type": "code",
   "execution_count": 46,
   "id": "cb0e2acc",
   "metadata": {},
   "outputs": [
    {
     "name": "stdout",
     "output_type": "stream",
     "text": [
      "./data/images/empty/img_001.jpg\n",
      "\n",
      "\n",
      "./data/images/barcode/img_001.png\n",
      "[INFO] Trouvé : EAN13 code : 0073935942400\n",
      "\n",
      "\n",
      "./data/images/qrcode/Nestle-and-Google-launch-KitKat-QR-code.jpg\n",
      "[INFO] Trouvé : QRCODE code : https://goo.gl/9aYrMF\n",
      "\n",
      "\n"
     ]
    }
   ],
   "source": [
    "test_code_detection()"
   ]
  },
  {
   "cell_type": "markdown",
   "id": "8f3b2052",
   "metadata": {},
   "source": [
    "## Fonctions de détection dans une vidéo"
   ]
  },
  {
   "cell_type": "code",
   "execution_count": 59,
   "id": "88ea47b7",
   "metadata": {},
   "outputs": [
    {
     "name": "stderr",
     "output_type": "stream",
     "text": [
      "OpenCV: FFMPEG: tag 0x34504d46/'FMP4' is not supported with codec id 12 and format 'mp4 / MP4 (MPEG-4 Part 14)'\n",
      "OpenCV: FFMPEG: fallback to use tag 0x7634706d/'mp4v'\n"
     ]
    },
    {
     "name": "stdout",
     "output_type": "stream",
     "text": [
      "Erreur dans la lecture de la frame\n"
     ]
    }
   ],
   "source": [
    "video_path = \"./data/videos/v1.mp4\"\n",
    "output_path = \"./data/outputs/output.mp4\"\n",
    "\n",
    "cap = cv2.VideoCapture(video_path)\n",
    "width = int(cap.get(3))\n",
    "height = int(cap.get(4))\n",
    "fourcc = cv2.VideoWriter_fourcc(*\"mp4v\")\n",
    "out = cv2.VideoWriter(output_path, fourcc, 20.0, (width, height), True)\n",
    "\n",
    "while cap.isOpened():\n",
    "    ret, frame = cap.read()\n",
    "\n",
    "    if not ret:\n",
    "        print(\"Erreur dans la lecture de la frame\")\n",
    "        break\n",
    "\n",
    "    codes, original, updated = decode_and_update_image(frame)\n",
    "\n",
    "    out.write(updated)\n",
    "\n",
    "cap.release()\n",
    "out.release()"
   ]
  },
  {
   "cell_type": "markdown",
   "id": "cac77c56",
   "metadata": {},
   "source": [
    "## Fonctions de détection à partir d'une webcam"
   ]
  },
  {
   "cell_type": "code",
   "execution_count": 27,
   "id": "94d6a4dd",
   "metadata": {
    "scrolled": true
   },
   "outputs": [
    {
     "data": {
      "application/vnd.jupyter.widget-view+json": {
       "model_id": "feca470cdeee402b920799c67afaca40"
      }
     },
     "metadata": {},
     "output_type": "display_data"
    },
    {
     "data": {
      "text/plain": [
       "None"
      ]
     },
     "metadata": {},
     "output_type": "display_data"
    },
    {
     "name": "stdout",
     "output_type": "stream",
     "text": [
      "[Decoded(data=b'333831458222', type='CODE128', rect=Rect(left=386, top=210, width=0, height=0), polygon=[Point(x=386, y=210)], quality=1, orientation='UP')]\n",
      "[Decoded(data=b'333831458222', type='CODE128', rect=Rect(left=181, top=213, width=2, height=26), polygon=[Point(x=181, y=213), Point(x=183, y=239)], quality=2, orientation='UP')]\n",
      "[Decoded(data=b'333831458222', type='CODE128', rect=Rect(left=184, top=243, width=1, height=10), polygon=[Point(x=184, y=243), Point(x=185, y=253)], quality=2, orientation='UP')]\n",
      "[Decoded(data=b'333831458222', type='CODE128', rect=Rect(left=184, top=247, width=0, height=0), polygon=[Point(x=184, y=247)], quality=1, orientation='UP')]\n",
      "[Decoded(data=b'333831458222', type='CODE128', rect=Rect(left=185, top=247, width=0, height=8), polygon=[Point(x=185, y=247), Point(x=185, y=255)], quality=2, orientation='UP')]\n",
      "[Decoded(data=b'333831458222', type='CODE128', rect=Rect(left=182, top=217, width=2, height=20), polygon=[Point(x=182, y=217), Point(x=184, y=237)], quality=2, orientation='UP')]\n",
      "[Decoded(data=b'333831458222', type='CODE128', rect=Rect(left=332, top=242, width=0, height=0), polygon=[Point(x=332, y=242)], quality=1, orientation='UP')]\n",
      "[Decoded(data=b'333831458222', type='CODE128', rect=Rect(left=166, top=213, width=154, height=40), polygon=[Point(x=166, y=213), Point(x=169, y=253), Point(x=320, y=248)], quality=4, orientation='UP')]\n",
      "[Decoded(data=b'333831458222', type='CODE128', rect=Rect(left=170, top=226, width=153, height=17), polygon=[Point(x=170, y=233), Point(x=170, y=243), Point(x=323, y=232), Point(x=323, y=226)], quality=4, orientation='UP')]\n",
      "[Decoded(data=b'333831458222', type='CODE128', rect=Rect(left=169, top=207, width=4, height=40), polygon=[Point(x=169, y=207), Point(x=173, y=247), Point(x=172, y=233)], quality=4, orientation='UP')]\n",
      "[Decoded(data=b'333831458222', type='CODE128', rect=Rect(left=169, top=205, width=159, height=38), polygon=[Point(x=169, y=205), Point(x=173, y=243), Point(x=328, y=240)], quality=5, orientation='UP')]\n",
      "[Decoded(data=b'333831458222', type='CODE128', rect=Rect(left=170, top=203, width=2, height=18), polygon=[Point(x=170, y=203), Point(x=172, y=221)], quality=2, orientation='UP')]\n",
      "[Decoded(data=b'333831458222', type='CODE128', rect=Rect(left=171, top=205, width=2, height=20), polygon=[Point(x=171, y=205), Point(x=171, y=209), Point(x=173, y=225), Point(x=173, y=219)], quality=4, orientation='UP')]\n",
      "[Decoded(data=b'333831458222', type='CODE128', rect=Rect(left=170, top=241, width=0, height=0), polygon=[Point(x=170, y=241)], quality=1, orientation='UP')]\n",
      "[Decoded(data=b'333831458222', type='CODE128', rect=Rect(left=166, top=201, width=163, height=47), polygon=[Point(x=166, y=201), Point(x=170, y=243), Point(x=329, y=248), Point(x=329, y=238), Point(x=328, y=212)], quality=17, orientation='UP')]\n",
      "[Decoded(data=b'333831458222', type='CODE128', rect=Rect(left=167, top=201, width=162, height=43), polygon=[Point(x=167, y=201), Point(x=167, y=203), Point(x=170, y=239), Point(x=329, y=244), Point(x=329, y=242), Point(x=328, y=226)], quality=7, orientation='UP')]\n",
      "[Decoded(data=b'333831458222', type='CODE128', rect=Rect(left=169, top=205, width=161, height=44), polygon=[Point(x=169, y=205), Point(x=173, y=249), Point(x=330, y=226)], quality=6, orientation='UP')]\n",
      "[Decoded(data=b'333831458222', type='CODE128', rect=Rect(left=173, top=242, width=158, height=11), polygon=[Point(x=173, y=243), Point(x=174, y=253), Point(x=331, y=244), Point(x=331, y=242)], quality=4, orientation='UP')]\n",
      "[Decoded(data=b'333831458222', type='CODE128', rect=Rect(left=171, top=215, width=160, height=38), polygon=[Point(x=171, y=215), Point(x=171, y=219), Point(x=174, y=253), Point(x=331, y=238), Point(x=331, y=234)], quality=9, orientation='UP')]\n",
      "[Decoded(data=b'333831458222', type='CODE128', rect=Rect(left=174, top=242, width=157, height=13), polygon=[Point(x=174, y=249), Point(x=174, y=255), Point(x=331, y=242)], quality=5, orientation='UP')]\n",
      "[Decoded(data=b'333831458222', type='CODE128', rect=Rect(left=175, top=244, width=155, height=21), polygon=[Point(x=175, y=265), Point(x=330, y=254), Point(x=330, y=244)], quality=4, orientation='UP')]\n",
      "[Decoded(data=b'333831458222', type='CODE128', rect=Rect(left=174, top=261, width=156, height=13), polygon=[Point(x=174, y=261), Point(x=175, y=265), Point(x=330, y=274)], quality=3, orientation='UP')]\n"
     ]
    },
    {
     "name": "stderr",
     "output_type": "stream",
     "text": [
      "Exception in thread Thread-22 (view):\n",
      "Traceback (most recent call last):\n",
      "  File \"/usr/lib/python3.10/threading.py\", line 1016, in _bootstrap_inner\n",
      "    self.run()\n",
      "  File \"/usr/lib/python3.10/threading.py\", line 953, in run\n",
      "    self._target(*self._args, **self._kwargs)\n",
      "  File \"/tmp/ipykernel_11596/3372035886.py\", line 27, in view\n",
      "cv2.error: OpenCV(4.8.1) /io/opencv/modules/imgcodecs/src/loadsave.cpp:1113: error: (-215:Assertion failed) !image.empty() in function 'imencode'\n",
      "\n"
     ]
    }
   ],
   "source": [
    "stopButton = widgets.ToggleButton(\n",
    "    value=False,\n",
    "    description='Stop',\n",
    "    disabled=False,\n",
    "    button_style='danger', # 'success', 'info', 'warning', 'danger' or ''\n",
    "    tooltip='Description',\n",
    "    icon='square' # (FontAwesome names without the `fa-` prefix)\n",
    ")\n",
    "\n",
    "\n",
    "\n",
    "def view(button):\n",
    "    previous_codes = None\n",
    "    cap = cv2.VideoCapture(0)\n",
    "    display_handle=display(None, display_id=True)\n",
    "    i = 0\n",
    "    while True:\n",
    "        _, frame = cap.read()\n",
    "        frame = cv2.flip(frame, 1) # if your camera reverses your image\n",
    "        \n",
    "        codes, original, updated = decode_and_update_image(frame)\n",
    "\n",
    "        new_codes = []\n",
    "        if (previous_codes is None or previous_codes != codes) and len(codes):\n",
    "            previous_codes = codes\n",
    "            print(codes)\n",
    "        \n",
    "        _, frame = cv2.imencode('.jpeg', updated)\n",
    "        display_handle.update(Image(data=frame.tobytes()))\n",
    "        \n",
    "        if stopButton.value==True:\n",
    "            cap.release()\n",
    "            display_handle.update(None)\n",
    "\n",
    "\n",
    "display(stopButton)\n",
    "thread = threading.Thread(target=view, args=(stopButton,))\n",
    "thread.start()"
   ]
  },
  {
   "cell_type": "code",
   "execution_count": null,
   "id": "43a32187",
   "metadata": {},
   "outputs": [],
   "source": []
  }
 ],
 "metadata": {
  "kernelspec": {
   "display_name": "Python 3 (ipykernel)",
   "language": "python",
   "name": "python3"
  },
  "language_info": {
   "codemirror_mode": {
    "name": "ipython",
    "version": 3
   },
   "file_extension": ".py",
   "mimetype": "text/x-python",
   "name": "python",
   "nbconvert_exporter": "python",
   "pygments_lexer": "ipython3",
   "version": "3.10.12"
  }
 },
 "nbformat": 4,
 "nbformat_minor": 5
}
